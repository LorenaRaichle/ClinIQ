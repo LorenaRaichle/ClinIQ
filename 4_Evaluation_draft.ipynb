{
  "nbformat": 4,
  "nbformat_minor": 0,
  "metadata": {
    "colab": {
      "provenance": [],
      "authorship_tag": "ABX9TyNEmfzuUtLQmxarafPoRDQz",
      "include_colab_link": true
    },
    "kernelspec": {
      "name": "python3",
      "display_name": "Python 3"
    },
    "language_info": {
      "name": "python"
    }
  },
  "cells": [
    {
      "cell_type": "markdown",
      "metadata": {
        "id": "view-in-github",
        "colab_type": "text"
      },
      "source": [
        "<a href=\"https://colab.research.google.com/github/Adria100/clin_IQ/blob/main/4_Evaluation_draft.ipynb\" target=\"_parent\"><img src=\"https://colab.research.google.com/assets/colab-badge.svg\" alt=\"Open In Colab\"/></a>"
      ]
    },
    {
      "cell_type": "markdown",
      "source": [
        "#Evaluation"
      ],
      "metadata": {
        "id": "Jvz8PHWWO7tk"
      }
    },
    {
      "cell_type": "code",
      "source": [
        "!pip install rouge_score\n",
        "!pip install bert-score python-Levenshtein nltk\n",
        "!pip install spacy transformers scikit-learn rouge-score nltk textacy\n",
        "!python -m spacy download en_core_web_md"
      ],
      "metadata": {
        "collapsed": true,
        "id": "Xuds36pqXtiG"
      },
      "execution_count": null,
      "outputs": []
    },
    {
      "cell_type": "code",
      "source": [
        "import json\n",
        "import spacy\n",
        "import matplotlib.pyplot as plt\n",
        "from sklearn.metrics import confusion_matrix, ConfusionMatrixDisplay, accuracy_score, precision_score, recall_score\n",
        "import numpy as np\n",
        "from nltk.translate.bleu_score import sentence_bleu, SmoothingFunction\n",
        "from sklearn.metrics.pairwise import cosine_similarity\n",
        "from rouge_score import rouge_scorer\n",
        "from nltk.tokenize import sent_tokenize\n",
        "from transformers import pipeline\n",
        "from bert_score import score\n",
        "from nltk.translate.meteor_score import meteor_score\n",
        "from sklearn.metrics import f1_score\n",
        "import pandas as pd\n",
        "import Levenshtein\n",
        "import nltk\n",
        "from nltk.corpus import wordnet"
      ],
      "metadata": {
        "id": "azioZS30Y-yo"
      },
      "execution_count": null,
      "outputs": []
    },
    {
      "cell_type": "code",
      "source": [
        "from google.colab import drive\n",
        "drive.mount('/content/drive')"
      ],
      "metadata": {
        "colab": {
          "base_uri": "https://localhost:8080/"
        },
        "id": "jpsF74UYeo6a",
        "outputId": "26b1f460-a87b-429a-ab77-881010868700"
      },
      "execution_count": null,
      "outputs": [
        {
          "output_type": "stream",
          "name": "stdout",
          "text": [
            "Mounted at /content/drive\n"
          ]
        }
      ]
    },
    {
      "cell_type": "code",
      "source": [
        "# Update file path\n"
      ],
      "metadata": {
        "id": "46YZaW2KZaFd"
      },
      "execution_count": null,
      "outputs": []
    },
    {
      "cell_type": "code",
      "source": [
        "nlp = spacy.load('en_core_web_md')\n",
        "\n",
        "# Hugging Face pipeline for entailment (textual consistency)\n",
        "entailment_pipeline = pipeline(\"zero-shot-classification\", model=\"facebook/bart-large-mnli\")"
      ],
      "metadata": {
        "id": "MNMxKbPVrylU"
      },
      "execution_count": null,
      "outputs": []
    },
    {
      "cell_type": "code",
      "source": [
        "nltk.download(\"wordnet\")\n",
        "nltk.download(\"omw-1.4\")"
      ],
      "metadata": {
        "id": "-WTewFPCnlAe"
      },
      "execution_count": null,
      "outputs": []
    },
    {
      "cell_type": "markdown",
      "source": [
        "For multi-hop evaluation we have looked at evaluation approaches used in literature:\n",
        "\n",
        "-BERTScore, BLEU, METEOR  and Levenshtein Ratio\n",
        "Lemesle, Q., Chevelu, J., Martin, P., Lolive, D., Delhay, A., & Barbot, N. (2025, January). Paraphrase Generation Evaluation Powered by an LLM: A Semantic Metric, Not a Lexical One. In Proceedings of the 31st International Conference on Computational Linguistics (pp. 8057-8087).\n",
        "\n",
        "-Cosine Similarity\n",
        "Patwardhan, A., Vaidya, V., & Kundu, A. (2024, October). Automated Consistency Analysis of LLMs. In 2024 IEEE 6th International Conference on Trust, Privacy and Security in Intelligent Systems, and Applications (TPS-ISA) (pp. 118-127). IEEE.\n",
        "\n",
        "-G-Eval\n",
        "Liu, Y., Iter, D., Xu, Y., Wang, S., Xu, R., & Zhu, C. (2023). G-eval: NLG evaluation using gpt-4 with better human alignment. arXiv preprint arXiv:2303.16634.\n",
        "\n",
        "-ROUGE\n",
        "Briman, M. K. H., & Yildiz, B. (2024). Beyond ROUGE: A comprehensive evaluation metric for abstractive summarization leveraging similarity, entailment, and acceptability. International Journal on Artificial Intelligence Tools. DOI: https://doi. org/10.1142 S.\n"
      ],
      "metadata": {
        "id": "kMmMvMMlkr_9"
      }
    },
    {
      "cell_type": "code",
      "source": [
        "def evaluate_classification(references, predictions):\n",
        "    \"\"\"\n",
        "    Calculate accuracy, precision, and recall for letter classification.\n",
        "\n",
        "    Parameters:\n",
        "        y_true (list): True labels\n",
        "        y_pred (list): Predicted labels\n",
        "\n",
        "    Returns:\n",
        "        dict: A dictionary with accuracy, precision, and recall\n",
        "    \"\"\"\n",
        "    return {\n",
        "        'accuracy': accuracy_score(references, predictions),\n",
        "        'precision': precision_score(references, predictions, average='macro', zero_division=0),\n",
        "        'recall': recall_score(references, predictions, average='macro', zero_division=0)\n",
        "    }\n",
        "#BERTScore\n",
        "def evaluate_bertscore(references, predictions, lang='en'):\n",
        "    P, R, F1 = score(predictions, references, lang=lang)\n",
        "    return {\n",
        "        'precision': P.mean().item(),\n",
        "        'recall': R.mean().item(),\n",
        "        'f1': F1.mean().item()\n",
        "    }\n",
        "#METEOR\n",
        "def evaluate_meteor(references, predictions):\n",
        "    scores = []\n",
        "    for ref, pred in zip(references, predictions):\n",
        "        scores.append(meteor_score([ref], pred))\n",
        "    return {\n",
        "        'average_meteor': sum(scores) / len(scores)\n",
        "    }\n",
        "#Levenshtein\n",
        "def evaluate_levenshtein(references, predictions):\n",
        "    distances = []\n",
        "    for ref, pred in zip(references, predictions):\n",
        "        distance = Levenshtein.distance(ref, pred)\n",
        "        distances.append(distance)\n",
        "    avg_distance = sum(distances) / len(distances)\n",
        "    return {\n",
        "        'average_levenshtein_distance': avg_distance\n",
        "    }\n",
        "#Cosine Similarity\n",
        "def compute_cosine_similarity(references, predictions):\n",
        "        \"\"\"\n",
        "        Compute cosine similarity between two texts using their embeddings.\n",
        "        \"\"\"\n",
        "        doc1 = nlp(references)\n",
        "        doc2 = nlp(predictions)\n",
        "        return cosine_similarity([doc1.vector], [doc2.vector])[0][0]\n",
        "\n",
        "#G-Eval\n",
        "def evaluate_reasoning_flow(references, predictions):\n",
        "        \"\"\"\n",
        "        Evaluate coherence and reasoning flow (G-Eval metric).\n",
        "        This uses cosine similarity between consecutive sentences.\n",
        "        \"\"\"\n",
        "        sentences = sent_tokenize(predictions)\n",
        "        flow_scores = []\n",
        "\n",
        "        for i in range(1, len(sentences)):\n",
        "            score = compute_cosine_similarity(sentences[i-1], sentences[i])\n",
        "            flow_scores.append(score)\n",
        "\n",
        "        # Return average reasoning flow score\n",
        "        return np.mean(flow_scores) if flow_scores else 0\n",
        "\n",
        "#BLEU\n",
        "def compute_bleu(references, predictions):\n",
        "    \"\"\"\n",
        "    Compute BLEU score between a reference and a prediction.\n",
        "\n",
        "    Parameters:\n",
        "        reference (str): The ground truth answer.\n",
        "        prediction (str): The model's predicted answer.\n",
        "\n",
        "    Returns:\n",
        "        float: BLEU score (0 to 1)\n",
        "    \"\"\"\n",
        "    # Tokenize by splitting on whitespace\n",
        "    reference_tokens = [references.split()]\n",
        "    prediction_tokens = predictions.split()\n",
        "\n",
        "    # Smoothing helps avoid zero scores for short predictions\n",
        "    smoothie = SmoothingFunction().method4\n",
        "\n",
        "    return sentence_bleu(reference_tokens, prediction_tokens, smoothing_function=smoothie)\n",
        "\n",
        "#ROUGE\n",
        "def compute_rouge(references, predictions):\n",
        "    \"\"\"\n",
        "    Compute ROUGE scores between a reference and a prediction.\n",
        "\n",
        "    Parameters:\n",
        "        reference (str): The ground truth answer.\n",
        "        prediction (str): The model's predicted answer.\n",
        "\n",
        "    Returns:\n",
        "        dict: ROUGE-1, ROUGE-2, and ROUGE-L F1 scores\n",
        "    \"\"\"\n",
        "    scorer = rouge_scorer.RougeScorer(['rouge1', 'rouge2', 'rougeL'], use_stemmer=True)\n",
        "    scores = scorer.score(references, predictions)\n",
        "\n",
        "    return {\n",
        "        'rouge1': scores['rouge1'].fmeasure,\n",
        "        'rouge2': scores['rouge2'].fmeasure,\n",
        "        'rougeL': scores['rougeL'].fmeasure\n",
        "    }\n",
        "\n",
        "\n",
        "class EvaluationSuite():\n",
        "    \"\"\"\n",
        "    Class that contains the evaluation scripts for each question type.\n",
        "    \"\"\"\n",
        "\n",
        "    def evaluate_MC(self, predictions, ground_truth):\n",
        "        \"\"\"\n",
        "        Evaluates the accuracy of multiple-choice predictions.\n",
        "\n",
        "        This function compares a list of predicted answers (e.g., \"A\", \"B\", \"C\", etc.)\n",
        "        against the corresponding ground-truth labels and computes overall accuracy.\n",
        "\n",
        "        Args:\n",
        "            predictions (List[str]): A list of predicted choices (e.g., [\"B\", \"C\", \"A\", ...]).\n",
        "            ground_truth (List[str]): A list of correct choices (same format and length as predictions).\n",
        "\n",
        "        Returns:\n",
        "            dict: A dictionary containing:\n",
        "                - 'accuracy' (float): Overall classification accuracy.\n",
        "                - 'precision' (float): Macro-averaged precision across all classes.\n",
        "                - 'recall' (float): Macro-averaged recall across all classes.\n",
        "        \"\"\"\n",
        "        # Ensure predictions and ground truth have the same length\n",
        "        assert len(predictions) == len(ground_truth), \"Predictions and ground_truth must have the same length.\"\n",
        "\n",
        "        # Normalize labels (strip whitespace, convert to uppercase)\n",
        "        predictions = [p.strip().upper() for p in predictions]\n",
        "        ground_truth = [g.strip().upper() for g in ground_truth]\n",
        "\n",
        "        # Generate confusion matrix\n",
        "        labels = sorted(list(set(ground_truth + predictions)))  # Get all unique class labels\n",
        "        cm = confusion_matrix(ground_truth, predictions, labels=labels)\n",
        "\n",
        "        # Display the matrix\n",
        "        disp = ConfusionMatrixDisplay(confusion_matrix=cm, display_labels=labels)\n",
        "        disp.plot(cmap='Blues', xticks_rotation=45)\n",
        "        plt.title(\"Confusion Matrix\")\n",
        "        plt.tight_layout()\n",
        "        plt.show()\n",
        "\n",
        "        # Return classification metrics\n",
        "        return evaluate_classification(ground_truth, predictions)\n",
        "\n",
        "    def evaluate_FT(self, predictions, ground_truth):\n",
        "        assert len(predictions) == len(ground_truth)\n",
        "\n",
        "        labels = sorted(list(set(ground_truth + predictions)))\n",
        "\n",
        "        # Compute confusion matrix\n",
        "        cm = confusion_matrix(ground_truth, predictions, labels=labels)\n",
        "\n",
        "        # Display the confusion matrix using ConfusionMatrixDisplay\n",
        "        disp = ConfusionMatrixDisplay(confusion_matrix=cm, display_labels=labels)\n",
        "        disp.plot(cmap='Blues', xticks_rotation=45)\n",
        "        plt.title(\"Confusion Matrix\")\n",
        "        plt.tight_layout()\n",
        "        plt.show()  # Show the plot\n",
        "\n",
        "        # Compute and return classification metrics\n",
        "        return self.evaluate_classification(ground_truth, predictions)\n",
        "\n",
        "    def evaluate_SA(self, predictions, ground_truth):\n",
        "        assert len(predictions) == len(ground_truth), \"Predictions and ground_truth must have the same length.\"\n",
        "\n",
        "        BLEU_scores = []\n",
        "        ROUGE_scores = []\n",
        "\n",
        "        for idx, prediction in enumerate(predictions):\n",
        "            if prediction == 'N/A':\n",
        "                continue\n",
        "\n",
        "            print(\"Ground truth: \", ground_truth[idx])\n",
        "            print(\"Prediction: \", prediction)\n",
        "\n",
        "            bleu_score = compute_bleu(ground_truth[idx], prediction)\n",
        "            rouge_score = compute_rouge(ground_truth[idx], prediction)\n",
        "\n",
        "            print(\"BLEU: \", bleu_score)\n",
        "            print(\"ROUGE: \", rouge_score)\n",
        "\n",
        "            BLEU_scores.append(bleu_score)\n",
        "            ROUGE_scores.append(rouge_score)\n",
        "\n",
        "        avg_bleu = sum(BLEU_scores) / len(BLEU_scores) if BLEU_scores else 0\n",
        "        avg_rouge = sum(ROUGE_scores) / len(ROUGE_scores) if ROUGE_scores else 0\n",
        "\n",
        "        return avg_rouge, avg_bleu\n",
        "\n",
        "    def evaluate_MH(self,predictions, ground_truth):\n",
        "        # Ensure that predictions and ground_truth have the same length\n",
        "        assert len(predictions) == len(ground_truth), \"Predictions and ground_truth must have the same length.\"\n",
        "\n",
        "        labels = sorted(list(set(ground_truth + predictions)))\n",
        "        BLEU_scores = []\n",
        "        ROUGE_scores = []\n",
        "        similarity_scores = []\n",
        "        coherence_scores = []\n",
        "\n",
        "        # Loop through predictions and calculate BLEU and ROUGE scores\n",
        "        for idx, prediction in enumerate(predictions):\n",
        "            if prediction == 'N/A':\n",
        "                continue  # Skip 'N/A' predictions\n",
        "\n",
        "            # Print the ground truth and predicted answers for debugging\n",
        "            print(\"Ground truth: \", ground_truth[idx])\n",
        "            print(\"Prediction: \", prediction)\n",
        "\n",
        "            # Compute BLEU and ROUGE scores\n",
        "            bleu_score = compute_bleu(ground_truth[idx], prediction)\n",
        "            rouge_score = compute_rouge(ground_truth[idx], prediction)\n",
        "            similarity = compute_cosine_similarity(ground_truth[idx], prediction)\n",
        "            coherence = evaluate_reasoning_flow(prediction)\n",
        "\n",
        "            # Print the scores\n",
        "            print(\"BLEU: \", bleu_score)\n",
        "            print(\"ROUGE: \", rouge_score)\n",
        "            print(f\"Average Cosine Similarity:\" similarity)\n",
        "            print(f\"Average Coherence:\" coherence)\n",
        "\n",
        "            # Append scores to the lists\n",
        "            BLEU_scores.append(bleu_score)\n",
        "            ROUGE_scores.append(rouge_score)\n",
        "            avg_bleu = sum(BLEU_scores) / len(BLEU_scores) if BLEU_scores else 0\n",
        "            avg_rouge = sum(ROUGE_scores) / len(ROUGE_scores) if ROUGE_scores else 0\n",
        "\n",
        "            return avg_rouge, avg_bleu"
      ],
      "metadata": {
        "id": "1-4Of4yJLBEj"
      },
      "execution_count": null,
      "outputs": []
    }
  ]
}