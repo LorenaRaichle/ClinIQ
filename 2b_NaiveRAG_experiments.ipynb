{
 "cells": [
  {
   "metadata": {},
   "cell_type": "markdown",
   "source": "# Experiments with Naive RAG to find optimal k retrieved contexts from knowledge base",
   "id": "83b8912eb2eb05e5"
  },
  {
   "metadata": {
    "jupyter": {
     "is_executing": true
    }
   },
   "cell_type": "code",
   "source": [
    "\n",
    "import spacy\n",
    "nlp = spacy.load(\"models/en_ner_bc5cdr_md-0.5.4\")\n",
    "print(nlp.pipe_names)\n"
   ],
   "id": "49c9a40a64c13197",
   "outputs": [],
   "execution_count": null
  },
  {
   "metadata": {
    "ExecuteTime": {
     "end_time": "2025-05-30T06:46:50.747128Z",
     "start_time": "2025-05-30T06:20:09.358928Z"
    }
   },
   "cell_type": "code",
   "source": [
    "import sys\n",
    "from pathlib import Path\n",
    "sys.path.append(str(Path(\".\").resolve()))\n",
    "from utils.RAG_metadata import extract_keywords_and_entities, extract_age_gender\n",
    "from utils.RAG_pinecone import init_index, RAGIndexer, pc\n",
    "from dotenv import load_dotenv\n",
    "from pathlib import Path\n",
    "import os\n",
    "\n",
    "load_dotenv() "
   ],
   "id": "30524b9b6d680260",
   "outputs": [
    {
     "name": "stderr",
     "output_type": "stream",
     "text": [
      "/Users/lorenaraichle/Documents/clin_IQ/.venv/lib/python3.13/site-packages/tqdm/auto.py:21: TqdmWarning: IProgress not found. Please update jupyter and ipywidgets. See https://ipywidgets.readthedocs.io/en/stable/user_install.html\n",
      "  from .autonotebook import tqdm as notebook_tqdm\n"
     ]
    },
    {
     "data": {
      "text/plain": [
       "True"
      ]
     },
     "execution_count": 2,
     "metadata": {},
     "output_type": "execute_result"
    }
   ],
   "execution_count": 2
  },
  {
   "metadata": {
    "ExecuteTime": {
     "end_time": "2025-05-30T06:46:50.747704Z",
     "start_time": "2025-05-30T06:20:16.609501Z"
    }
   },
   "cell_type": "code",
   "source": [
    "\n",
    "index = init_index()\n",
    "indexer = RAGIndexer(index)\n",
    "indexer.describe_index()\n"
   ],
   "id": "c47a57bb283118b1",
   "outputs": [
    {
     "name": "stdout",
     "output_type": "stream",
     "text": [
      "ℹIndex 'rag-trainset-index' already exists.\n",
      "{'dimension': 1024,\n",
      " 'index_fullness': 0.0,\n",
      " 'metric': 'cosine',\n",
      " 'namespaces': {'': {'vector_count': 411857}},\n",
      " 'total_vector_count': 411857,\n",
      " 'vector_type': 'dense'}\n"
     ]
    },
    {
     "data": {
      "text/plain": [
       "{'dimension': 1024,\n",
       " 'index_fullness': 0.0,\n",
       " 'metric': 'cosine',\n",
       " 'namespaces': {'': {'vector_count': 411857}},\n",
       " 'total_vector_count': 411857,\n",
       " 'vector_type': 'dense'}"
      ]
     },
     "execution_count": 3,
     "metadata": {},
     "output_type": "execute_result"
    }
   ],
   "execution_count": 3
  },
  {
   "metadata": {
    "ExecuteTime": {
     "end_time": "2025-05-30T06:46:50.747868Z",
     "start_time": "2025-05-30T06:27:27.182456Z"
    }
   },
   "cell_type": "code",
   "source": [
    "from utils.RAG_preprocessing import DataPaths, DataStats\n",
    "data = DataPaths.load(\"test_processed\")\n",
    "\n",
    "stats = DataStats.get_stats(\"test_processed\", show_sources=False)"
   ],
   "id": "bb57ffdebdcb8ab0",
   "outputs": [
    {
     "name": "stderr",
     "output_type": "stream",
     "text": [
      "/Users/lorenaraichle/Documents/clin_IQ/.venv/lib/python3.13/site-packages/tqdm/auto.py:21: TqdmWarning: IProgress not found. Please update jupyter and ipywidgets. See https://ipywidgets.readthedocs.io/en/stable/user_install.html\n",
      "  from .autonotebook import tqdm as notebook_tqdm\n"
     ]
    },
    {
     "name": "stdout",
     "output_type": "stream",
     "text": [
      "\n",
      "Stats for 'test_processed':\n",
      " - true_false: 42254 examples\n",
      " - multiple_choice: 43466 examples\n",
      " - short_answer: 13516 examples\n",
      " - multi_hop: 3941 examples\n",
      "Total entries: 103177\n"
     ]
    }
   ],
   "execution_count": 1
  },
  {
   "metadata": {
    "ExecuteTime": {
     "end_time": "2025-05-30T06:48:27.080758Z",
     "start_time": "2025-05-30T06:48:26.340703Z"
    }
   },
   "cell_type": "code",
   "source": [
    "from utils.RAG_naive_pipeline import RAGPipeline\n",
    "from utils.prompt_utils import generate_model_input\n",
    "import pprint\n",
    "from datasets import Dataset, DatasetDict\n",
    "\n",
    "import json\n",
    "from utils.RAG_preprocessing import DataPaths\n",
    "\n",
    "with open(DataPaths.paths[\"test_processed\"], \"r\") as f:\n",
    "    test_data_raw = json.load(f)\n",
    "\n",
    "testset = DatasetDict({\n",
    "    split: Dataset.from_list(split_data)\n",
    "    for split, split_data in test_data_raw.items()\n",
    "})\n",
    "mc_testset = testset[\"multiple_choice\"].to_list()\n",
    "\n",
    "\n",
    "pprint.pprint(mc_testset[0])\n",
    "\n"
   ],
   "id": "4053836878d67c6",
   "outputs": [
    {
     "name": "stdout",
     "output_type": "stream",
     "text": [
      "{'correct_answer': 'B',\n",
      " 'id': 'mc_0',\n",
      " 'options': {'A': 'Caput',\n",
      "             'B': 'Chignon',\n",
      "             'C': 'Phlegmon',\n",
      "             'D': 'None of the above.',\n",
      "             'E': None},\n",
      " 'question': 'Formation of one of the following is essential for success of '\n",
      "             'this instrument?',\n",
      " 'source': 'MC3-openlifescienceai/medmcqa',\n",
      " 'type': 'multiple_choice'}\n"
     ]
    }
   ],
   "execution_count": 4
  },
  {
   "metadata": {
    "ExecuteTime": {
     "end_time": "2025-05-30T06:56:11.230520Z",
     "start_time": "2025-05-30T06:56:04.094193Z"
    }
   },
   "cell_type": "code",
   "source": [
    "import json\n",
    "import copy\n",
    "from tqdm import tqdm\n",
    "from utils.RAG_naive_pipeline import RAGPipeline\n",
    "from utils.prompt_utils import generate_model_input\n",
    "from utils.RAG_preprocessing import DataPaths\n",
    "\n",
    "k_values = [3, 5, 8, 12]\n",
    "\n",
    "for k in k_values:\n",
    "    print(f\"\\n=== Running for k={k} ===\")\n",
    "\n",
    "    \n",
    "    entries = test_data_raw[\"multiple_choice\"]\n",
    "    all_data_for_index = []\n",
    "    for i, example in enumerate(entries):\n",
    "        example[\"type\"] = \"multiple_choice\"\n",
    "        example[\"id\"] = f\"mc_{i}\"\n",
    "        all_data_for_index.append(example)\n",
    "  \n",
    "    pipeline = RAGPipeline(all_data_for_index, k=k)\n",
    "    \n",
    "    eval_examples = all_data_for_index[:4] # subset of questions\n",
    "    \n",
    "    predictions = []\n",
    "    for example in tqdm(eval_examples, desc=f\"Generating answers for k={k}\"):\n",
    "        prepared_example = generate_model_input(copy.deepcopy(example))\n",
    "        response = pipeline.run(prepared_example)\n",
    "        predictions.append(response)\n",
    "\n",
    "\n",
    "    output_file_path = DataPaths.get_k_experiment_output_path(k)\n",
    "\n",
    "    with open(output_file_path, 'w') as output_file:\n",
    "        json.dump(predictions, output_file, indent=4)\n",
    "\n",
    "    print(f\"Saved results for k={k} to {output_file_path}\")\n"
   ],
   "id": "bc09a758c754dd49",
   "outputs": [
    {
     "name": "stdout",
     "output_type": "stream",
     "text": [
      "\n",
      "=== Running for k=3 ===\n"
     ]
    },
    {
     "name": "stderr",
     "output_type": "stream",
     "text": [
      "Loading checkpoint shards:   0%|          | 0/3 [00:00<?, ?it/s]"
     ]
    },
    {
     "ename": "RuntimeError",
     "evalue": "MPS backend out of memory (MPS allocated: 33.96 GB, other allocations: 672.00 KB, max allowed: 36.27 GB). Tried to allocate 6.06 GB on private pool. Use PYTORCH_MPS_HIGH_WATERMARK_RATIO=0.0 to disable upper limit for memory allocations (may cause system failure).",
     "output_type": "error",
     "traceback": [
      "\u001B[31m---------------------------------------------------------------------------\u001B[39m",
      "\u001B[31mRuntimeError\u001B[39m                              Traceback (most recent call last)",
      "\u001B[36mCell\u001B[39m\u001B[36m \u001B[39m\u001B[32mIn[8]\u001B[39m\u001B[32m, line 21\u001B[39m\n\u001B[32m     18\u001B[39m     example[\u001B[33m\"\u001B[39m\u001B[33mid\u001B[39m\u001B[33m\"\u001B[39m] = \u001B[33mf\u001B[39m\u001B[33m\"\u001B[39m\u001B[33mmc_\u001B[39m\u001B[38;5;132;01m{\u001B[39;00mi\u001B[38;5;132;01m}\u001B[39;00m\u001B[33m\"\u001B[39m\n\u001B[32m     19\u001B[39m     all_data_for_index.append(example)\n\u001B[32m---> \u001B[39m\u001B[32m21\u001B[39m pipeline = \u001B[43mRAGPipeline\u001B[49m\u001B[43m(\u001B[49m\u001B[43mall_data_for_index\u001B[49m\u001B[43m,\u001B[49m\u001B[43m \u001B[49m\u001B[43mk\u001B[49m\u001B[43m=\u001B[49m\u001B[43mk\u001B[49m\u001B[43m)\u001B[49m\n\u001B[32m     23\u001B[39m eval_examples = all_data_for_index[:\u001B[32m4\u001B[39m] \u001B[38;5;66;03m# subset of questions\u001B[39;00m\n\u001B[32m     25\u001B[39m predictions = []\n",
      "\u001B[36mFile \u001B[39m\u001B[32m~/Documents/clin_IQ/utils/RAG_naive_pipeline.py:28\u001B[39m, in \u001B[36mRAGPipeline.__init__\u001B[39m\u001B[34m(self, data, k)\u001B[39m\n\u001B[32m     26\u001B[39m \u001B[38;5;28mself\u001B[39m.index = pc.Index(INDEX_NAME)\n\u001B[32m     27\u001B[39m \u001B[38;5;28mself\u001B[39m.retriever = \u001B[38;5;28mself\u001B[39m._get_retriever()\n\u001B[32m---> \u001B[39m\u001B[32m28\u001B[39m \u001B[38;5;28mself\u001B[39m.chain = \u001B[38;5;28;43mself\u001B[39;49m\u001B[43m.\u001B[49m\u001B[43m_build_qa_chain\u001B[49m\u001B[43m(\u001B[49m\u001B[43m)\u001B[49m\n",
      "\u001B[36mFile \u001B[39m\u001B[32m~/Documents/clin_IQ/utils/RAG_naive_pipeline.py:64\u001B[39m, in \u001B[36mRAGPipeline._build_qa_chain\u001B[39m\u001B[34m(self)\u001B[39m\n\u001B[32m     62\u001B[39m \u001B[38;5;28;01mdef\u001B[39;00m\u001B[38;5;250m \u001B[39m\u001B[34m_build_qa_chain\u001B[39m(\u001B[38;5;28mself\u001B[39m):\n\u001B[32m     63\u001B[39m     \u001B[38;5;28;01mif\u001B[39;00m \u001B[38;5;28mself\u001B[39m.model_pipeline \u001B[38;5;129;01mis\u001B[39;00m \u001B[38;5;28;01mNone\u001B[39;00m:\n\u001B[32m---> \u001B[39m\u001B[32m64\u001B[39m         pipe = \u001B[38;5;28;43mself\u001B[39;49m\u001B[43m.\u001B[49m\u001B[43m_load_deepseek_model\u001B[49m\u001B[43m(\u001B[49m\u001B[43m)\u001B[49m\n\u001B[32m     65\u001B[39m         \u001B[38;5;28mself\u001B[39m.model_pipeline = HuggingFacePipeline(pipeline=pipe)\n\u001B[32m     67\u001B[39m     llm = \u001B[38;5;28mself\u001B[39m.model_pipeline\n",
      "\u001B[36mFile \u001B[39m\u001B[32m~/Documents/clin_IQ/utils/RAG_naive_pipeline.py:33\u001B[39m, in \u001B[36mRAGPipeline._load_deepseek_model\u001B[39m\u001B[34m(self)\u001B[39m\n\u001B[32m     31\u001B[39m model_id = \u001B[33m\"\u001B[39m\u001B[33mdeepseek-ai/deepseek-coder-7b-instruct-v1.5\u001B[39m\u001B[33m\"\u001B[39m\n\u001B[32m     32\u001B[39m tokenizer = AutoTokenizer.from_pretrained(model_id)\n\u001B[32m---> \u001B[39m\u001B[32m33\u001B[39m model = \u001B[43mAutoModelForCausalLM\u001B[49m\u001B[43m.\u001B[49m\u001B[43mfrom_pretrained\u001B[49m\u001B[43m(\u001B[49m\n\u001B[32m     34\u001B[39m \u001B[43m    \u001B[49m\u001B[43mmodel_id\u001B[49m\u001B[43m,\u001B[49m\n\u001B[32m     35\u001B[39m \u001B[43m    \u001B[49m\u001B[43mdevice_map\u001B[49m\u001B[43m=\u001B[49m\u001B[33;43m\"\u001B[39;49m\u001B[33;43mauto\u001B[39;49m\u001B[33;43m\"\u001B[39;49m\u001B[43m,\u001B[49m\n\u001B[32m     36\u001B[39m \u001B[43m    \u001B[49m\u001B[43mtorch_dtype\u001B[49m\u001B[43m=\u001B[49m\u001B[43mtorch\u001B[49m\u001B[43m.\u001B[49m\u001B[43mfloat16\u001B[49m\n\u001B[32m     37\u001B[39m \u001B[43m\u001B[49m\u001B[43m)\u001B[49m\n\u001B[32m     38\u001B[39m \u001B[38;5;28;01mreturn\u001B[39;00m pipeline(\u001B[33m\"\u001B[39m\u001B[33mtext-generation\u001B[39m\u001B[33m\"\u001B[39m, model=model, tokenizer=tokenizer)\n",
      "\u001B[36mFile \u001B[39m\u001B[32m~/Documents/clin_IQ/.venv/lib/python3.13/site-packages/transformers/models/auto/auto_factory.py:571\u001B[39m, in \u001B[36m_BaseAutoModelClass.from_pretrained\u001B[39m\u001B[34m(cls, pretrained_model_name_or_path, *model_args, **kwargs)\u001B[39m\n\u001B[32m    569\u001B[39m     \u001B[38;5;28;01mif\u001B[39;00m model_class.config_class == config.sub_configs.get(\u001B[33m\"\u001B[39m\u001B[33mtext_config\u001B[39m\u001B[33m\"\u001B[39m, \u001B[38;5;28;01mNone\u001B[39;00m):\n\u001B[32m    570\u001B[39m         config = config.get_text_config()\n\u001B[32m--> \u001B[39m\u001B[32m571\u001B[39m     \u001B[38;5;28;01mreturn\u001B[39;00m \u001B[43mmodel_class\u001B[49m\u001B[43m.\u001B[49m\u001B[43mfrom_pretrained\u001B[49m\u001B[43m(\u001B[49m\n\u001B[32m    572\u001B[39m \u001B[43m        \u001B[49m\u001B[43mpretrained_model_name_or_path\u001B[49m\u001B[43m,\u001B[49m\u001B[43m \u001B[49m\u001B[43m*\u001B[49m\u001B[43mmodel_args\u001B[49m\u001B[43m,\u001B[49m\u001B[43m \u001B[49m\u001B[43mconfig\u001B[49m\u001B[43m=\u001B[49m\u001B[43mconfig\u001B[49m\u001B[43m,\u001B[49m\u001B[43m \u001B[49m\u001B[43m*\u001B[49m\u001B[43m*\u001B[49m\u001B[43mhub_kwargs\u001B[49m\u001B[43m,\u001B[49m\u001B[43m \u001B[49m\u001B[43m*\u001B[49m\u001B[43m*\u001B[49m\u001B[43mkwargs\u001B[49m\n\u001B[32m    573\u001B[39m \u001B[43m    \u001B[49m\u001B[43m)\u001B[49m\n\u001B[32m    574\u001B[39m \u001B[38;5;28;01mraise\u001B[39;00m \u001B[38;5;167;01mValueError\u001B[39;00m(\n\u001B[32m    575\u001B[39m     \u001B[33mf\u001B[39m\u001B[33m\"\u001B[39m\u001B[33mUnrecognized configuration class \u001B[39m\u001B[38;5;132;01m{\u001B[39;00mconfig.\u001B[34m__class__\u001B[39m\u001B[38;5;132;01m}\u001B[39;00m\u001B[33m for this kind of AutoModel: \u001B[39m\u001B[38;5;132;01m{\u001B[39;00m\u001B[38;5;28mcls\u001B[39m.\u001B[34m__name__\u001B[39m\u001B[38;5;132;01m}\u001B[39;00m\u001B[33m.\u001B[39m\u001B[38;5;130;01m\\n\u001B[39;00m\u001B[33m\"\u001B[39m\n\u001B[32m    576\u001B[39m     \u001B[33mf\u001B[39m\u001B[33m\"\u001B[39m\u001B[33mModel type should be one of \u001B[39m\u001B[38;5;132;01m{\u001B[39;00m\u001B[33m'\u001B[39m\u001B[33m, \u001B[39m\u001B[33m'\u001B[39m.join(c.\u001B[34m__name__\u001B[39m\u001B[38;5;250m \u001B[39m\u001B[38;5;28;01mfor\u001B[39;00m\u001B[38;5;250m \u001B[39mc\u001B[38;5;250m \u001B[39m\u001B[38;5;129;01min\u001B[39;00m\u001B[38;5;250m \u001B[39m\u001B[38;5;28mcls\u001B[39m._model_mapping.keys())\u001B[38;5;132;01m}\u001B[39;00m\u001B[33m.\u001B[39m\u001B[33m\"\u001B[39m\n\u001B[32m    577\u001B[39m )\n",
      "\u001B[36mFile \u001B[39m\u001B[32m~/Documents/clin_IQ/.venv/lib/python3.13/site-packages/transformers/modeling_utils.py:309\u001B[39m, in \u001B[36mrestore_default_torch_dtype.<locals>._wrapper\u001B[39m\u001B[34m(*args, **kwargs)\u001B[39m\n\u001B[32m    307\u001B[39m old_dtype = torch.get_default_dtype()\n\u001B[32m    308\u001B[39m \u001B[38;5;28;01mtry\u001B[39;00m:\n\u001B[32m--> \u001B[39m\u001B[32m309\u001B[39m     \u001B[38;5;28;01mreturn\u001B[39;00m \u001B[43mfunc\u001B[49m\u001B[43m(\u001B[49m\u001B[43m*\u001B[49m\u001B[43margs\u001B[49m\u001B[43m,\u001B[49m\u001B[43m \u001B[49m\u001B[43m*\u001B[49m\u001B[43m*\u001B[49m\u001B[43mkwargs\u001B[49m\u001B[43m)\u001B[49m\n\u001B[32m    310\u001B[39m \u001B[38;5;28;01mfinally\u001B[39;00m:\n\u001B[32m    311\u001B[39m     torch.set_default_dtype(old_dtype)\n",
      "\u001B[36mFile \u001B[39m\u001B[32m~/Documents/clin_IQ/.venv/lib/python3.13/site-packages/transformers/modeling_utils.py:4573\u001B[39m, in \u001B[36mPreTrainedModel.from_pretrained\u001B[39m\u001B[34m(cls, pretrained_model_name_or_path, config, cache_dir, ignore_mismatched_sizes, force_download, local_files_only, token, revision, use_safetensors, weights_only, *model_args, **kwargs)\u001B[39m\n\u001B[32m   4563\u001B[39m     \u001B[38;5;28;01mif\u001B[39;00m dtype_orig \u001B[38;5;129;01mis\u001B[39;00m \u001B[38;5;129;01mnot\u001B[39;00m \u001B[38;5;28;01mNone\u001B[39;00m:\n\u001B[32m   4564\u001B[39m         torch.set_default_dtype(dtype_orig)\n\u001B[32m   4566\u001B[39m     (\n\u001B[32m   4567\u001B[39m         model,\n\u001B[32m   4568\u001B[39m         missing_keys,\n\u001B[32m   4569\u001B[39m         unexpected_keys,\n\u001B[32m   4570\u001B[39m         mismatched_keys,\n\u001B[32m   4571\u001B[39m         offload_index,\n\u001B[32m   4572\u001B[39m         error_msgs,\n\u001B[32m-> \u001B[39m\u001B[32m4573\u001B[39m     ) = \u001B[38;5;28;43mcls\u001B[39;49m\u001B[43m.\u001B[49m\u001B[43m_load_pretrained_model\u001B[49m\u001B[43m(\u001B[49m\n\u001B[32m   4574\u001B[39m \u001B[43m        \u001B[49m\u001B[43mmodel\u001B[49m\u001B[43m,\u001B[49m\n\u001B[32m   4575\u001B[39m \u001B[43m        \u001B[49m\u001B[43mstate_dict\u001B[49m\u001B[43m,\u001B[49m\n\u001B[32m   4576\u001B[39m \u001B[43m        \u001B[49m\u001B[43mcheckpoint_files\u001B[49m\u001B[43m,\u001B[49m\n\u001B[32m   4577\u001B[39m \u001B[43m        \u001B[49m\u001B[43mpretrained_model_name_or_path\u001B[49m\u001B[43m,\u001B[49m\n\u001B[32m   4578\u001B[39m \u001B[43m        \u001B[49m\u001B[43mignore_mismatched_sizes\u001B[49m\u001B[43m=\u001B[49m\u001B[43mignore_mismatched_sizes\u001B[49m\u001B[43m,\u001B[49m\n\u001B[32m   4579\u001B[39m \u001B[43m        \u001B[49m\u001B[43msharded_metadata\u001B[49m\u001B[43m=\u001B[49m\u001B[43msharded_metadata\u001B[49m\u001B[43m,\u001B[49m\n\u001B[32m   4580\u001B[39m \u001B[43m        \u001B[49m\u001B[43mdevice_map\u001B[49m\u001B[43m=\u001B[49m\u001B[43mdevice_map\u001B[49m\u001B[43m,\u001B[49m\n\u001B[32m   4581\u001B[39m \u001B[43m        \u001B[49m\u001B[43mdisk_offload_folder\u001B[49m\u001B[43m=\u001B[49m\u001B[43moffload_folder\u001B[49m\u001B[43m,\u001B[49m\n\u001B[32m   4582\u001B[39m \u001B[43m        \u001B[49m\u001B[43moffload_state_dict\u001B[49m\u001B[43m=\u001B[49m\u001B[43moffload_state_dict\u001B[49m\u001B[43m,\u001B[49m\n\u001B[32m   4583\u001B[39m \u001B[43m        \u001B[49m\u001B[43mdtype\u001B[49m\u001B[43m=\u001B[49m\u001B[43mtorch_dtype\u001B[49m\u001B[43m,\u001B[49m\n\u001B[32m   4584\u001B[39m \u001B[43m        \u001B[49m\u001B[43mhf_quantizer\u001B[49m\u001B[43m=\u001B[49m\u001B[43mhf_quantizer\u001B[49m\u001B[43m,\u001B[49m\n\u001B[32m   4585\u001B[39m \u001B[43m        \u001B[49m\u001B[43mkeep_in_fp32_regex\u001B[49m\u001B[43m=\u001B[49m\u001B[43mkeep_in_fp32_regex\u001B[49m\u001B[43m,\u001B[49m\n\u001B[32m   4586\u001B[39m \u001B[43m        \u001B[49m\u001B[43mdevice_mesh\u001B[49m\u001B[43m=\u001B[49m\u001B[43mdevice_mesh\u001B[49m\u001B[43m,\u001B[49m\n\u001B[32m   4587\u001B[39m \u001B[43m        \u001B[49m\u001B[43mkey_mapping\u001B[49m\u001B[43m=\u001B[49m\u001B[43mkey_mapping\u001B[49m\u001B[43m,\u001B[49m\n\u001B[32m   4588\u001B[39m \u001B[43m        \u001B[49m\u001B[43mweights_only\u001B[49m\u001B[43m=\u001B[49m\u001B[43mweights_only\u001B[49m\u001B[43m,\u001B[49m\n\u001B[32m   4589\u001B[39m \u001B[43m    \u001B[49m\u001B[43m)\u001B[49m\n\u001B[32m   4591\u001B[39m \u001B[38;5;66;03m# record tp degree the model sharded to\u001B[39;00m\n\u001B[32m   4592\u001B[39m model._tp_size = tp_size\n",
      "\u001B[36mFile \u001B[39m\u001B[32m~/Documents/clin_IQ/.venv/lib/python3.13/site-packages/transformers/modeling_utils.py:4990\u001B[39m, in \u001B[36mPreTrainedModel._load_pretrained_model\u001B[39m\u001B[34m(cls, model, state_dict, checkpoint_files, pretrained_model_name_or_path, ignore_mismatched_sizes, sharded_metadata, device_map, disk_offload_folder, offload_state_dict, dtype, hf_quantizer, keep_in_fp32_regex, device_mesh, key_mapping, weights_only)\u001B[39m\n\u001B[32m   4988\u001B[39m \u001B[38;5;28;01mif\u001B[39;00m device_map \u001B[38;5;129;01mis\u001B[39;00m \u001B[38;5;129;01mnot\u001B[39;00m \u001B[38;5;28;01mNone\u001B[39;00m \u001B[38;5;129;01mand\u001B[39;00m \u001B[38;5;129;01mnot\u001B[39;00m is_hqq_or_quark:\n\u001B[32m   4989\u001B[39m     expanded_device_map = expand_device_map(device_map, expected_keys)\n\u001B[32m-> \u001B[39m\u001B[32m4990\u001B[39m     \u001B[43mcaching_allocator_warmup\u001B[49m\u001B[43m(\u001B[49m\u001B[43mmodel_to_load\u001B[49m\u001B[43m,\u001B[49m\u001B[43m \u001B[49m\u001B[43mexpanded_device_map\u001B[49m\u001B[43m,\u001B[49m\u001B[43m \u001B[49m\u001B[43mhf_quantizer\u001B[49m\u001B[43m)\u001B[49m\n\u001B[32m   4992\u001B[39m error_msgs = []\n\u001B[32m   4993\u001B[39m \u001B[38;5;66;03m# Iterate on all the shards to load the weights\u001B[39;00m\n",
      "\u001B[36mFile \u001B[39m\u001B[32m~/Documents/clin_IQ/.venv/lib/python3.13/site-packages/transformers/modeling_utils.py:6063\u001B[39m, in \u001B[36mcaching_allocator_warmup\u001B[39m\u001B[34m(model, expanded_device_map, hf_quantizer)\u001B[39m\n\u001B[32m   6061\u001B[39m     byte_count = \u001B[38;5;28mmax\u001B[39m(\u001B[32m0\u001B[39m, byte_count - unused_memory)\n\u001B[32m   6062\u001B[39m \u001B[38;5;66;03m# Allocate memory\u001B[39;00m\n\u001B[32m-> \u001B[39m\u001B[32m6063\u001B[39m _ = \u001B[43mtorch\u001B[49m\u001B[43m.\u001B[49m\u001B[43mempty\u001B[49m\u001B[43m(\u001B[49m\u001B[43mbyte_count\u001B[49m\u001B[43m \u001B[49m\u001B[43m/\u001B[49m\u001B[43m/\u001B[49m\u001B[43m \u001B[49m\u001B[43mfactor\u001B[49m\u001B[43m,\u001B[49m\u001B[43m \u001B[49m\u001B[43mdtype\u001B[49m\u001B[43m=\u001B[49m\u001B[43mtorch\u001B[49m\u001B[43m.\u001B[49m\u001B[43mfloat16\u001B[49m\u001B[43m,\u001B[49m\u001B[43m \u001B[49m\u001B[43mdevice\u001B[49m\u001B[43m=\u001B[49m\u001B[43mdevice\u001B[49m\u001B[43m,\u001B[49m\u001B[43m \u001B[49m\u001B[43mrequires_grad\u001B[49m\u001B[43m=\u001B[49m\u001B[38;5;28;43;01mFalse\u001B[39;49;00m\u001B[43m)\u001B[49m\n",
      "\u001B[31mRuntimeError\u001B[39m: MPS backend out of memory (MPS allocated: 33.96 GB, other allocations: 672.00 KB, max allowed: 36.27 GB). Tried to allocate 6.06 GB on private pool. Use PYTORCH_MPS_HIGH_WATERMARK_RATIO=0.0 to disable upper limit for memory allocations (may cause system failure)."
     ]
    }
   ],
   "execution_count": 8
  },
  {
   "metadata": {},
   "cell_type": "code",
   "outputs": [],
   "execution_count": null,
   "source": "\n",
   "id": "6df2e4495fbe737e"
  }
 ],
 "metadata": {
  "kernelspec": {
   "display_name": "Python 3",
   "language": "python",
   "name": "python3"
  },
  "language_info": {
   "codemirror_mode": {
    "name": "ipython",
    "version": 2
   },
   "file_extension": ".py",
   "mimetype": "text/x-python",
   "name": "python",
   "nbconvert_exporter": "python",
   "pygments_lexer": "ipython2",
   "version": "2.7.6"
  }
 },
 "nbformat": 4,
 "nbformat_minor": 5
}
